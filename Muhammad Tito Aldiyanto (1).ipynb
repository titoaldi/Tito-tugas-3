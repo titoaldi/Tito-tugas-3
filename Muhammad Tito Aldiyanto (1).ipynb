{
 "cells": [
  {
   "cell_type": "code",
   "execution_count": 79,
   "id": "06274450-8a6a-4783-9d00-7ce79d9146dc",
   "metadata": {},
   "outputs": [
    {
     "name": "stdout",
     "output_type": "stream",
     "text": [
      "Tito\n",
      "30\n"
     ]
    }
   ],
   "source": [
    "x=20\n",
    "y=30\n",
    "nama = \"Tito\"\n",
    "print(nama)\n",
    "if nama >= \"Titp\" :\n",
    "    print(nama)\n",
    "else :\n",
    " print(y)"
   ]
  },
  {
   "cell_type": "code",
   "execution_count": 127,
   "id": "307dc7dd-5818-4771-a37e-2d81ad383a5f",
   "metadata": {},
   "outputs": [
    {
     "name": "stdin",
     "output_type": "stream",
     "text": [
      "Masukan bilangan: 80\n"
     ]
    },
    {
     "name": "stdout",
     "output_type": "stream",
     "text": [
      "80 adalah bilangan genap\n",
      "ok\n"
     ]
    }
   ],
   "source": [
    "x=int(input(\"Masukan bilangan:\"))\n",
    "if x%2==0:\n",
    "    print(x,\"adalah bilangan genap\")\n",
    "if x%2==1:\n",
    "    print(x,\"adalah bilangan ganjil\")\n",
    "print (\"ok\")"
   ]
  },
  {
   "cell_type": "code",
   "execution_count": 131,
   "id": "22934792-0c69-4c30-954f-d104d6713878",
   "metadata": {},
   "outputs": [
    {
     "name": "stdin",
     "output_type": "stream",
     "text": [
      "Masukan bilangan:  11\n"
     ]
    },
    {
     "name": "stdout",
     "output_type": "stream",
     "text": [
      "11 adalah bilangan ganjil\n",
      "ok\n"
     ]
    }
   ],
   "source": [
    "bil=int(input(\"Masukan bilangan: \"))\n",
    "tipe=\"ganjil\"\n",
    "if bil%2==0:\n",
    "    tipe=\"genap\"\n",
    "print(\"%d adalah bilangan %s\"%(bil,tipe))\n",
    "print(\"ok\")"
   ]
  },
  {
   "cell_type": "code",
   "execution_count": 137,
   "id": "dc022f88-a2d2-4d22-8a2e-b4ee70dce78a",
   "metadata": {},
   "outputs": [
    {
     "data": {
      "text/plain": [
       "False"
      ]
     },
     "execution_count": 137,
     "metadata": {},
     "output_type": "execute_result"
    }
   ],
   "source": [
    "count=0; limit=10; jawab=\"y\"\n",
    "not(count==0 or limit==10)"
   ]
  },
  {
   "cell_type": "code",
   "execution_count": 1,
   "id": "e4a31285-7968-4df8-9a29-63885afeb355",
   "metadata": {},
   "outputs": [
    {
     "name": "stdin",
     "output_type": "stream",
     "text": [
      "Masukan nama 1:  Tito\n",
      "Masukan nama 2:  apa\n"
     ]
    },
    {
     "name": "stdout",
     "output_type": "stream",
     "text": [
      "apa\n",
      "Tito\n",
      "end\n"
     ]
    }
   ],
   "source": [
    "a=input(str(\"Masukan nama 1: \"))\n",
    "b=input(str(\"Masukan nama 2: \"))\n",
    "if a>b:\n",
    " print(a)\n",
    " print(b)\n",
    "else:\n",
    " print(b)\n",
    " print(a)\n",
    "print(\"end\")"
   ]
  },
  {
   "cell_type": "code",
   "execution_count": 3,
   "id": "7dfe665b-0451-471f-98ed-17f2daf9ad94",
   "metadata": {},
   "outputs": [
    {
     "name": "stdout",
     "output_type": "stream",
     "text": [
      "Bodylooping, k= 1\n",
      "Bodylooping, k= 2\n",
      "Bodylooping, k= 3\n",
      "Bodylooping, k= 4\n",
      "end\n"
     ]
    }
   ],
   "source": [
    "k=1\n",
    "while k<5:\n",
    " print (\"Bodylooping, k=\",k)\n",
    " k=k+1\n",
    "print(\"end\")"
   ]
  },
  {
   "cell_type": "code",
   "execution_count": null,
   "id": "11347069-05c4-4394-8424-47d592b07230",
   "metadata": {},
   "outputs": [],
   "source": [
    "total=0.0\n",
    "count=0\n",
    "xStr=input(\"Masukan bilangan (<Enter> untuk keluar)>>\")\n",
    "while xStr != \"\":\n",
    "    x= float(xStr)\n",
    "    total=total+x\n",
    "    count=count+1\n",
    "    xStr=input(\"Masukan bilangan (<Enter> untuk keluar)>>\")\n",
    "print(\"\\nRata-ratanya adalah:\",total/count)"
   ]
  },
  {
   "cell_type": "code",
   "execution_count": 1,
   "id": "768ad584-2977-4efe-b327-580256479504",
   "metadata": {},
   "outputs": [
    {
     "name": "stdin",
     "output_type": "stream",
     "text": [
      "Jumlah bilangan?  3\n",
      "Masukan bilangan-1>> 4\n",
      "Masukan bilangan-2>> 5\n",
      "Masukan bilangan-3>> 6\n"
     ]
    },
    {
     "name": "stdout",
     "output_type": "stream",
     "text": [
      "Rata-ratanya adalah: 5.000\n"
     ]
    }
   ],
   "source": [
    "n=int(input(\"Jumlah bilangan? \"))\n",
    "i=1\n",
    "total=0.0 \n",
    "while i<=n:\n",
    "    data=int(input(\"Masukan bilangan-%d>>\"%(i)))\n",
    "    total=total+data\n",
    "    i=i+1\n",
    "print(\"Rata-ratanya adalah: %.3f\"%(total/n))"
   ]
  },
  {
   "cell_type": "code",
   "execution_count": 1,
   "id": "4b37bf2e-a636-43ea-92dd-586c83d45b9b",
   "metadata": {},
   "outputs": [
    {
     "name": "stdout",
     "output_type": "stream",
     "text": [
      "Bodylooping, k= 1\n",
      "Bodylooping, k= 2\n",
      "Bodylooping, k= 3\n",
      "Bodylooping, k= 4\n",
      "end\n"
     ]
    }
   ],
   "source": [
    "for k in range(1,5): #<1,2,3,4>\n",
    "    print(\"Bodylooping, k=\",k)\n",
    "print(\"end\")"
   ]
  },
  {
   "cell_type": "code",
   "execution_count": 7,
   "id": "cc45b803-89f3-4a2b-b59d-1b1b8408cc0c",
   "metadata": {},
   "outputs": [
    {
     "name": "stdout",
     "output_type": "stream",
     "text": [
      "Bodylooping, k= 2\n",
      "Bodylooping, k= 3\n",
      "Bodylooping, k= 4\n",
      "end\n"
     ]
    }
   ],
   "source": [
    "bawah=2\n",
    "atas=5\n",
    "for k in range(bawah,atas):\n",
    "    print(\"Bodylooping, k=\",k)\n",
    "print(\"end\")"
   ]
  },
  {
   "cell_type": "code",
   "execution_count": 13,
   "id": "edcc0c08-eb44-410c-88b9-6ab44564a22e",
   "metadata": {},
   "outputs": [
    {
     "name": "stdin",
     "output_type": "stream",
     "text": [
      "Jumlah bilangan?  7\n",
      "Masukan bilangan>>  1\n",
      "Masukan bilangan>>  2\n",
      "Masukan bilangan>>  3\n",
      "Masukan bilangan>>  4\n",
      "Masukan bilangan>>  5\n",
      "Masukan bilangan>>  6\n",
      "Masukan bilangan>>  7\n"
     ]
    },
    {
     "name": "stdout",
     "output_type": "stream",
     "text": [
      "\n",
      "Rata-ratanya adalah:  4.0\n"
     ]
    }
   ],
   "source": [
    "n=int(input(\"Jumlah bilangan? \"))\n",
    "total=0.0\n",
    "for i in range(n): #n=3, <0,1,2>\n",
    "    x=float(input(\"Masukan bilangan>> \"))\n",
    "    total=total+x\n",
    "print(\"\\nRata-ratanya adalah: \", total/n)"
   ]
  },
  {
   "cell_type": "code",
   "execution_count": 11,
   "id": "a384694a-224f-4c2b-bf74-31692f1cef36",
   "metadata": {},
   "outputs": [
    {
     "name": "stdout",
     "output_type": "stream",
     "text": [
      "Bodylooping, k= 7\n",
      "Bodylooping, k= 6\n",
      "Bodylooping, k= 5\n",
      "Bodylooping, k= 4\n"
     ]
    }
   ],
   "source": [
    "bawah=3\n",
    "atas=7\n",
    "for k in range(atas,bawah,-1):\n",
    "    print(\"Bodylooping, k=\",k)"
   ]
  },
  {
   "cell_type": "code",
   "execution_count": 5,
   "id": "b2fef585-c7b5-4be2-ad29-55e15ca34a26",
   "metadata": {},
   "outputs": [
    {
     "name": "stdin",
     "output_type": "stream",
     "text": [
      "Hitung luas persegi \n",
      "Masukan nilai panjang:  10\n",
      "Masukan nilai lebar:  20\n",
      "Masukan satuan cm/m:  cm\n"
     ]
    },
    {
     "name": "stdout",
     "output_type": "stream",
     "text": [
      "Nilai luas persegi dengan panjang  10  dan lebar  20  adalah  200 cm\n"
     ]
    }
   ],
   "source": [
    "input(\"Hitung luas persegi\")\n",
    "A=int(input(\"Masukan nilai panjang: \"))\n",
    "B=int(input(\"Masukan nilai lebar: \"))\n",
    "C=input(\"Masukan satuan cm/m: \")\n",
    "D=A*B\n",
    "print(\"Nilai luas persegi dengan panjang \", A,\" dan lebar \", B,\" adalah \", D, C)"
   ]
  },
  {
   "cell_type": "code",
   "execution_count": null,
   "id": "adb7d99a-4feb-4a03-b140-d64b49f0e636",
   "metadata": {},
   "outputs": [],
   "source": [
    "a=int(input(\"Masukan nilai A: \"))\n",
    "b=int(input(\"Masukan nilai B: \"))\n",
    "\n",
    "jumlah=a+b\n",
    "selisih=a-b\n",
    "kali=a*b\n",
    "sisa_pembagian=a/b\n",
    "pembagian=a%b\n",
    "logaritma=math.log10(a)\n",
    "pangkat=a**b\n",
    "\n",
    "print(\"Jumlah \", a,\" dan \", b,\" adalah \", jumlah)\n",
    "print(\"Selisih \", a,\" dan \", b,\" adalah \", selisih)\n",
    "print(\"Hasil kali \", a,\" dan \", b,\" adalah \", kali)\n",
    "print(\"Sisa pembagian \", a,\" dan \", b,\" adalah \", sisa_pembagian)\n",
    "print(\"Pembagian \", a,\" dan \", b,\" adalah \", pembagian)\n",
    "print(\"Logaritma: \", logaritma )\n",
    "print(\"hasil pangkat: \", pangkat)"
   ]
  },
  {
   "cell_type": "code",
   "execution_count": null,
   "id": "85a4c808-75d3-4edf-a54e-3acf4d9b300c",
   "metadata": {},
   "outputs": [],
   "source": [
    "a=int(input(\"Masukan nilai A: \"))\n",
    "b=int(input(\"Masukan nilai B: \"))\n",
    "\n",
    "jumlah=a+b\n",
    "selisih=a-b\n",
    "kali=a*b\n",
    "sisa_pembagian=a/b\n",
    "pembagian=a%b\n",
    "logaritma=math.log10(a)\n",
    "pangkat=a**b\n",
    "\n",
    "print(\"Jumlah \", a,\" dan \", b,\" adalah \", jumlah)\n",
    "print(\"Selisih \", a,\" dan \", b,\" adalah \", selisih)\n",
    "print(\"Hasil kali \", a,\" dan \", b,\" adalah \", kali)\n",
    "print(\"Sisa pembagian \", a,\" dan \", b,\" adalah \", sisa_pembagian)\n",
    "print(\"Pembagian \", a,\" dan \", b,\" adalah \", pembagian)\n",
    "print(\"Logaritma: \", logaritma )\n",
    "print(\"hasil pangkat: \", pangkat)"
   ]
  },
  {
   "cell_type": "code",
   "execution_count": 15,
   "id": "90af7fb0-207b-4272-9bcc-ab8ada0fec6b",
   "metadata": {},
   "outputs": [
    {
     "name": "stdout",
     "output_type": "stream",
     "text": [
      "8\n",
      "2\n",
      "15\n",
      "1.6666666666666667\n",
      "2\n",
      "125\n"
     ]
    },
    {
     "data": {
      "text/plain": [
       "1.6094379124341003"
      ]
     },
     "execution_count": 15,
     "metadata": {},
     "output_type": "execute_result"
    }
   ],
   "source": [
    "import math\n",
    "a=5\n",
    "b=3\n",
    "print(a+b)\n",
    "print(a-b)\n",
    "print(a*b)\n",
    "print(a/b)\n",
    "print(a%b)\n",
    "print(a**b)\n",
    "math.log(a)"
   ]
  },
  {
   "cell_type": "code",
   "execution_count": null,
   "id": "eecc4caa-4614-4ecf-b993-2792cedc39c1",
   "metadata": {},
   "outputs": [
    {
     "name": "stdin",
     "output_type": "stream",
     "text": [
      "Lintang Kota 1:  -7.2575\n"
     ]
    }
   ],
   "source": [
    "import math\n",
    "lintang1= math.radians(float(input(\"Lintang Kota 1: \")))\n",
    "bujur1= math.radians(float(input(\"Bujur Kota 1: \")))\n",
    "lintang2= math.radians(float(input(\"Lintang Kota 2: \")))\n",
    "bujur2= math.radians(float(input(\"Bujur Kota 2: \")))\n",
    "\n",
    "R=6371\n",
    "Lat=lintang2-lintang1\n",
    "Long=bujur2-bujur1\n",
    "\n",
    "a=math.sin(Lat/2)**2+math.cos(lintang1)*math.cos(lintang2)*math.sin(Long/2)**2\n",
    "C=2*math.atan2(math.sqrt(a),math.sqrt(1-a))\n",
    "d=R*C\n",
    "\n",
    "print(\"Jarak antara dua titik tersebut adalah \", d,\"Kilometer\")\n",
    "\n"
   ]
  },
  {
   "cell_type": "code",
   "execution_count": 27,
   "id": "cc781d68-b0e0-49a6-b5fe-df567260c750",
   "metadata": {},
   "outputs": [
    {
     "name": "stdin",
     "output_type": "stream",
     "text": [
      "Nama : Tito\n",
      "Jam masuk kerja:  7\n",
      "Menit masuk kerja:  30\n",
      "Jam keluar kerja:  20\n",
      "Menit keluar kerja:  40\n"
     ]
    },
    {
     "name": "stdout",
     "output_type": "stream",
     "text": [
      "Selamat  Tito\n",
      "--------rincian Gaji--------\n",
      "Nama:  Tito\n",
      "Waktu kerja:  13 jam ( 7 30 sd 20 40 )\n",
      "Gaji perhari: Rp 175000\n",
      "Lembur: Rp 75000\n",
      "Total gaji: Rp 250000\n"
     ]
    }
   ],
   "source": [
    "nama=input(\"Nama :\")\n",
    "jam_masuk=int(input(\"Jam masuk kerja: \"))\n",
    "menit_masuk=int(input(\"Menit masuk kerja: \"))\n",
    "jam_keluar=int(input(\"Jam keluar kerja: \"))\n",
    "menit_keluar=int(input(\"Menit keluar kerja: \"))\n",
    "\n",
    "total_masuk=jam_masuk*60+menit_masuk\n",
    "total_keluar=jam_keluar*60+menit_keluar\n",
    "waktu_kerja=total_keluar-total_masuk\n",
    "if waktu_kerja>480: # 480 menit=8 jam\n",
    "    jam_lembur=(waktu_kerja-480)//60\n",
    "else:\n",
    "    jam_lembur=0\n",
    "\n",
    "gaji=175000\n",
    "lembur=15000\n",
    "\n",
    "total_gaji=gaji+(lembur*jam_lembur)\n",
    "\n",
    "print(\"Selamat \", nama)\n",
    "print(\"--------rincian Gaji--------\")\n",
    "print(\"Nama: \",nama)\n",
    "print(\"Waktu kerja: \",waktu_kerja//60,\"jam (\",jam_masuk,menit_masuk,\"sd\",jam_keluar,menit_keluar,\")\")\n",
    "print(\"Gaji perhari: Rp 175000\")\n",
    "print(\"Lembur: Rp\",lembur*jam_lembur)\n",
    "print(\"Total gaji: Rp\", total_gaji)\n"
   ]
  },
  {
   "cell_type": "code",
   "execution_count": 1,
   "id": "12979d7f-2235-4934-997d-9cb182599f3d",
   "metadata": {},
   "outputs": [
    {
     "name": "stdout",
     "output_type": "stream",
     "text": [
      "a\n",
      "b\n",
      "c\n",
      "d\n",
      "e\n"
     ]
    }
   ],
   "source": [
    "s='abcde'\n",
    "for c in s:\n",
    "    print(c)"
   ]
  },
  {
   "cell_type": "code",
   "execution_count": 13,
   "id": "9a8566c3-3333-409a-adb3-d41e37527535",
   "metadata": {},
   "outputs": [
    {
     "name": "stdout",
     "output_type": "stream",
     "text": [
      "0 H\n",
      "1 a\n",
      "2 i\n",
      "3  \n",
      "4 A\n",
      "5 p\n",
      "6 a\n",
      "7 k\n",
      "8 a\n",
      "9 b\n",
      "10 a\n",
      "11 r\n",
      "12 !\n"
     ]
    }
   ],
   "source": [
    "data=\"Hai Apakabar!\" \n",
    "for indeks in range(len(data)):\n",
    "    print(indeks, data[indeks])"
   ]
  },
  {
   "cell_type": "code",
   "execution_count": 35,
   "id": "b0f63184-07ca-4bf1-8757-f43f957008e1",
   "metadata": {},
   "outputs": [
    {
     "name": "stdout",
     "output_type": "stream",
     "text": [
      "abcd\n",
      "bcda\n",
      "cdab\n",
      "dabc\n"
     ]
    }
   ],
   "source": [
    "s='abcd'\n",
    "for k in range(len(s)):\n",
    "    t=s[k:]+s[:k]\n",
    "    print(t)"
   ]
  },
  {
   "cell_type": "code",
   "execution_count": 41,
   "id": "ebc9754a-10b8-4a0e-81bc-29c4fb63882a",
   "metadata": {},
   "outputs": [
    {
     "name": "stdin",
     "output_type": "stream",
     "text": [
      "Masukan string bit:  10\n"
     ]
    },
    {
     "name": "stdout",
     "output_type": "stream",
     "text": [
      "Nilai desimal adalah 2\n"
     ]
    }
   ],
   "source": [
    "bitString=input(\"Masukan string bit: \")\n",
    "desimal=0\n",
    "eksponen=len(bitString)-1\n",
    "for digit in bitString:\n",
    "    desimal=desimal+int(digit)*2**eksponen\n",
    "    eksponen=eksponen-1\n",
    "print(\"Nilai desimal adalah\",desimal)"
   ]
  },
  {
   "cell_type": "code",
   "execution_count": 5,
   "id": "32445dcd-efc1-4761-bb79-627512a3f1dd",
   "metadata": {},
   "outputs": [
    {
     "name": "stdin",
     "output_type": "stream",
     "text": [
      "Masukan bilangan:  27\n"
     ]
    },
    {
     "name": "stdout",
     "output_type": "stream",
     "text": [
      "Hasil bagi sisa biner\n",
      "   13       1           1\n",
      "    6       1          11\n",
      "    3       0         011\n",
      "    1       1        1011\n",
      "    0       1       11011\n",
      "Representasi binernya: 11011\n"
     ]
    }
   ],
   "source": [
    "desimal=int(input(\"Masukan bilangan: \"))\n",
    "if desimal==0:\n",
    "    print(0)\n",
    "else:\n",
    "    print(\"Hasil bagi sisa biner\")\n",
    "    bitString=\"\"\n",
    "    while desimal>0:\n",
    "        sisa=desimal%2\n",
    "        desimal=desimal//2\n",
    "        bitString=str(sisa)+bitString\n",
    "        print(\"%5d%8d%12s\"%(desimal, sisa, bitString))\n",
    "    print(\"Representasi binernya:\",bitString)"
   ]
  },
  {
   "cell_type": "code",
   "execution_count": 65,
   "id": "37638c72-3cfa-4619-a0d9-db102ab6ff5d",
   "metadata": {},
   "outputs": [
    {
     "name": "stdin",
     "output_type": "stream",
     "text": [
      "Sisi A:  3\n",
      "Sisi B:  4\n",
      "Sisi C:  5\n"
     ]
    },
    {
     "name": "stdout",
     "output_type": "stream",
     "text": [
      "Segitiga siku siku\n"
     ]
    }
   ],
   "source": [
    "a=int(input(\"Sisi A: \"))\n",
    "b=int(input(\"Sisi B: \"))\n",
    "c=int(input(\"Sisi C: \"))\n",
    "\n",
    "if a==b==c:\n",
    "    print('Segitiga Sama Sisi')\n",
    "elif a==b!=c or a!=b==c:\n",
    "    print('Segitiga sama kaki')\n",
    "elif a+b<=c or a+c<=b or b+c<=a:\n",
    "    print('Segitiga tidak valid')\n",
    "elif a**2+b**2==c**2 or b**2+c**2==a**2 or c**2+a**2==b**2:\n",
    "    print('Segitiga siku siku')\n",
    "else:\n",
    "    print('Segitiga Sembarang')"
   ]
  },
  {
   "cell_type": "code",
   "execution_count": 87,
   "id": "d05aef34-c6ae-4113-97ec-cdece23c605e",
   "metadata": {},
   "outputs": [
    {
     "name": "stdin",
     "output_type": "stream",
     "text": [
      "Nilai A: 1\n",
      "Nilai B: 6\n",
      "Nilai C: 6\n"
     ]
    },
    {
     "name": "stdout",
     "output_type": "stream",
     "text": [
      "Persamaan kuadrat:1x^2+6x+6\n",
      "Diskriminan: 12\n",
      "merupakan akar berbeda\n",
      "x1:(-1.2679491924311228+0j)\n",
      "x2:(-4.732050807568877+0j)\n"
     ]
    }
   ],
   "source": [
    "import cmath\n",
    "\n",
    "a=int(input(\"Nilai A:\"))\n",
    "b=int(input(\"Nilai B:\"))\n",
    "c=int(input(\"Nilai C:\"))\n",
    "\n",
    "D=b**2-4*a*c\n",
    "\n",
    "print(f\"Persamaan kuadrat:{a}x^2+{b}x+{c}\")\n",
    "\n",
    "if D>0:\n",
    "    x1=(-b + cmath.sqrt(D))/(2*a)\n",
    "    x2=(-b - cmath.sqrt(D))/(2*a)\n",
    "    print('Diskriminan:',D)\n",
    "    print('merupakan akar berbeda')\n",
    "    print(f\"x1:{x1}\")\n",
    "    print(f\"x2:{x2}\")\n",
    "elif D==0:\n",
    "    x1=x2=-b/(2*a)\n",
    "    print('Diskriminan:',D)\n",
    "    print('Merupakan akar kembar')\n",
    "    print('Akar:',x1)\n",
    "else:\n",
    "    x1=(-b + cmath.sqrt(D))/(2*a)\n",
    "    x2=(-b - cmath.sqrt(D))/(2*a)\n",
    "    print('Diskriminan:',D)\n",
    "    print('Merupakan akar imajiner')\n",
    "    print(f\"x1:{x1}\")\n",
    "    print(f\"x2:{x2}\")\n",
    "    "
   ]
  },
  {
   "cell_type": "code",
   "execution_count": 75,
   "id": "3ec3b194-7783-4194-add5-6c36199f657d",
   "metadata": {},
   "outputs": [
    {
     "name": "stdout",
     "output_type": "stream",
     "text": [
      "x1= 5.68\n"
     ]
    }
   ],
   "source": [
    "x1=5.67555\n",
    "print(\"x1= %.2f\" % x1)"
   ]
  },
  {
   "cell_type": "code",
   "execution_count": null,
   "id": "3f4de464-39d4-44d2-93eb-2bdd1a841e94",
   "metadata": {},
   "outputs": [],
   "source": []
  }
 ],
 "metadata": {
  "kernelspec": {
   "display_name": "Python 3 (ipykernel)",
   "language": "python",
   "name": "python3"
  },
  "language_info": {
   "codemirror_mode": {
    "name": "ipython",
    "version": 3
   },
   "file_extension": ".py",
   "mimetype": "text/x-python",
   "name": "python",
   "nbconvert_exporter": "python",
   "pygments_lexer": "ipython3",
   "version": "3.12.4"
  }
 },
 "nbformat": 4,
 "nbformat_minor": 5
}
